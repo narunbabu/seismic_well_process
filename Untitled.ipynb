{
 "cells": [
  {
   "cell_type": "code",
   "execution_count": 12,
   "metadata": {},
   "outputs": [],
   "source": [
    "# !pip install lasio\n",
    "\n",
    "import numpy as np\n",
    "\n",
    "import lasio\n",
    "folder=r\"D:\\Ameyem\\D11_inversion\\well_logs\\\\\"\n",
    "file=folder+'nec25_a1.las'\n",
    "las=lasio.read(file)"
   ]
  },
  {
   "cell_type": "code",
   "execution_count": 13,
   "metadata": {},
   "outputs": [
    {
     "data": {
      "text/plain": [
       "array(['DEPT', 'BS', 'DTCO', 'DTSM', 'GR', 'HCAL', 'LLD', 'MSFL', 'NPHI',\n",
       "       'PEF', 'RHOB', 'PHIE_ND', 'PHIT_ND', 'SWE_INDO_Q', 'SWT_DUAL',\n",
       "       'VSH_ND', 'OUTPUTINTERVALVELOCITY', 'RC', 'AI'], dtype='<U22')"
      ]
     },
     "execution_count": 13,
     "metadata": {},
     "output_type": "execute_result"
    }
   ],
   "source": [
    "np.array(las.keys())"
   ]
  }
 ],
 "metadata": {
  "kernelspec": {
   "display_name": "Python 3",
   "language": "python",
   "name": "python3"
  },
  "language_info": {
   "codemirror_mode": {
    "name": "ipython",
    "version": 3
   },
   "file_extension": ".py",
   "mimetype": "text/x-python",
   "name": "python",
   "nbconvert_exporter": "python",
   "pygments_lexer": "ipython3",
   "version": "3.7.1"
  }
 },
 "nbformat": 4,
 "nbformat_minor": 2
}
