{
 "cells": [
  {
   "cell_type": "code",
   "execution_count": 15,
   "metadata": {},
   "outputs": [
    {
     "name": "stdout",
     "output_type": "stream",
     "text": [
      "[-0.01369863 -0.09589041  0.8630137 ]\n"
     ]
    }
   ],
   "source": [
    "import numpy as np\n",
    "from scipy.linalg import solve\n",
    "\n",
    "def jacobi(A, b, x, n):\n",
    "\n",
    "    D = np.diag(A)\n",
    "    R = A - np.diagflat(D)\n",
    "    \n",
    "    for i in range(n):\n",
    "        x = (b - np.dot(R,x))/ D\n",
    "    return x\n",
    "\n",
    "'''___Main___'''\n",
    "\n",
    "A = np.array([[4.0, -2.0, 1.0], [1.0, -3.0, 2.0], [-1.0, 2.0, 6.0]])\n",
    "b = [1.0, 2.0, 5.0]\n",
    "x = [1.0, 1.0, 1.0]\n",
    "n = 25\n",
    "\n",
    "x = jacobi(A, b, x, n)\n",
    "\n",
    "print (solve(A, b))"
   ]
  },
  {
   "cell_type": "code",
   "execution_count": null,
   "metadata": {},
   "outputs": [],
   "source": [
    "b seismic signal which is constant\n",
    "x is to be solved, the reflection coefficient\n",
    "A should be wavelet"
   ]
  },
  {
   "cell_type": "code",
   "execution_count": 16,
   "metadata": {},
   "outputs": [
    {
     "data": {
      "text/plain": [
       "array([1.00000001, 2.00000001, 5.00000001])"
      ]
     },
     "execution_count": 16,
     "metadata": {},
     "output_type": "execute_result"
    }
   ],
   "source": [
    "np.dot(A,x)"
   ]
  },
  {
   "cell_type": "code",
   "execution_count": 9,
   "metadata": {},
   "outputs": [
    {
     "data": {
      "text/plain": [
       "(array([0.33333333, 0.16666667, 0.5       ]),\n",
       " [0.3333333333333333, 0.3333333333333333, 0.3333333333333333])"
      ]
     },
     "execution_count": 9,
     "metadata": {},
     "output_type": "execute_result"
    }
   ],
   "source": [
    "# n = len(M)\n",
    "# rj = [1.0/n for _ in range(n)]\n",
    "# p = [1.0/n for _ in range(n)]\n",
    "# n,rj,p\n",
    "import numpy as np\n",
    "np.array(M).dot(p),rj"
   ]
  },
  {
   "cell_type": "code",
   "execution_count": 12,
   "metadata": {},
   "outputs": [
    {
     "name": "stdout",
     "output_type": "stream",
     "text": [
      "[0.3836477987421384, 0.22012578616352202, 0.39622641509433965]\n"
     ]
    },
    {
     "data": {
      "text/plain": [
       "([0.3333333333333333, 0.3333333333333333, 0.3333333333333333],\n",
       " array([0.39622642, 0.1918239 , 0.41194969]))"
      ]
     },
     "execution_count": 12,
     "metadata": {},
     "output_type": "execute_result"
    }
   ],
   "source": [
    "alpha = .8\n",
    "M = [\n",
    "    [0, 0, 1],\n",
    "    [.5, 0, 0],\n",
    "    [.5, 1, 0],\n",
    "]\n",
    "n = len(M)\n",
    "rj = [1.0/n for _ in range(n)]\n",
    "p = [1.0/n for _ in range(n)]\n",
    "\n",
    "for _ in range(100):\n",
    "    p_old = [x for x in p]\n",
    "    for i in range(n):\n",
    "        pi = 0.0\n",
    "        for j in range(n):\n",
    "            pi += M[i][j] * p_old[j]\n",
    "        pi *= alpha\n",
    "        pi += (1-alpha) * rj[i]\n",
    "        p[i] = pi\n",
    "print(p)\n",
    "rj,np.array(M).dot(p)\n"
   ]
  },
  {
   "cell_type": "code",
   "execution_count": null,
   "metadata": {},
   "outputs": [],
   "source": [
    "# % Function Jacobian %\n",
    "def jacobian(x,r,t,roa,roa1,method='ghosh'):\n",
    "    lr=len(r)\n",
    "    lt=len(t)\n",
    "    par = 0.1;\n",
    "    r2 = np.array(r);\n",
    "    roa2=roa3=np.zeros_like(roa1)\n",
    "    A1=[]\n",
    "    A2=[]\n",
    "    for i2 in range( lr):\n",
    "        r2[i2] = (r[i2]*par)+r[i2];\n",
    "        roa2=VES1dmodel(r2,t,x,method=method) #VES1dmodYunus(r2,t,x)\n",
    "        A1.append( ((np.array(roa2-roa1)/(r[i2]*par))*r[i2])/roa);\n",
    "        r2 = r.copy();\n",
    "\n",
    "    t2 = np.array(t);\n",
    "    for i3 in range(lt):\n",
    "        t2[i3] = (t[i3]*par)+t[i3];\n",
    "        roa3=VES1dmodel(r,t2,x,method=method)\n",
    "        A1.append( (np.array(roa3-roa1)/(t[i3]*par))*t[i3]/roa)\n",
    "        t2 = t.copy();\n",
    "    return np.array(A1).T\n",
    "# np.array(A1)\n",
    "# A1\n",
    "# jacobian(x,r,t,roa,roa1)\n",
    "def VES1dInv(m,x,roa,method='ghosh',maxiteration=100):\n",
    "    kr = 10e-10;\n",
    "    iteration = 1;\n",
    "#     maxiteration = 100;\n",
    "    dfit = 1;\n",
    "    roa1=np.zeros_like(roa)\n",
    "    lr=int(1+len(m)/2)\n",
    "    lt=int(len(m)/2)\n",
    "    print('Processing.',end='')\n",
    "    while iteration<maxiteration:\n",
    "#         print(iteration,iteration%10)\n",
    "        if iteration%10==1:\n",
    "            print('.',end='')\n",
    "        iteration +=1\n",
    "        r = m[:lr];\n",
    "        t = m[-lt:];\n",
    "\n",
    "        roa1=VES1dmodel(r,t,x,method=method)\n",
    "        e1 = np.array(np.log(roa)-np.log(roa1));\n",
    "        dd = e1;\n",
    "        misfit1 = np.dot(e1.T,e1)\n",
    "    #     if misfit1<kr:\n",
    "    #         loglog(x,roa,'k.',x,roa1,'k');\n",
    "    #         axis([1 1000 1 1000])\n",
    "    #         xlabel('AB/2 (m)');\n",
    "    #         ylabel('Apparent Resistivity (Ohm-m)');\n",
    "    #         break\n",
    "\n",
    "        A= jacobian(x,r,t,roa,roa1,method=method);\n",
    "    #     U, S, V = svd(A,0);\n",
    "        U, S, V = np.linalg.svd(A,full_matrices= False)\n",
    "        ss = len(S);\n",
    "        say = 1;\n",
    "        k = 0;\n",
    "\n",
    "        while say<ss:\n",
    "        #     say = say+1;\n",
    "            diagS = S;\n",
    "            beta = S[say-1]*(dfit**(1/say));\n",
    "            if beta<10e-5:\n",
    "                beta = 0.001*say;\n",
    "            SS=np.zeros((ss,ss))\n",
    "            for i4 in range(ss):\n",
    "                SS[i4,i4] = S[i4]/(S[i4]**2+beta);\n",
    "\n",
    "            dmg = np.linalg.multi_dot([V.T,SS,U.T,dd.T])\n",
    "            mg = np.exp(np.log(m)+dmg.T);\n",
    "            r = mg[:lr];\n",
    "            t = mg[-lt:];\n",
    "            roa4=VES1dmodel(r,t,x,method=method)\n",
    "\n",
    "\n",
    "            e2 = np.array(np.log(roa)-np.log(roa4));\n",
    "            misfit2 = np.dot(e2.T,e2);\n",
    "\n",
    "            if misfit2>misfit1:\n",
    "                'Beta control'\n",
    "                say = say+1;\n",
    "                k = k+1;\n",
    "                if k == ss-1:\n",
    "                    iteration = maxiteration;\n",
    "                    say = ss+1;\n",
    "\n",
    "            else:\n",
    "                say = ss+1;\n",
    "                m = mg;\n",
    "                dfit = (misfit1-misfit2)/misfit1;\n",
    "                iteration = iteration+1;\n",
    "                a = iteration;\n",
    "                if dfit<kr:\n",
    "                    iteration = maxiteration;\n",
    "                    say = say+1;\n",
    "    print('\\nIterated %d times '%(iteration))\n",
    "    return mg,roa1\n"
   ]
  }
 ],
 "metadata": {
  "kernelspec": {
   "display_name": "Python 3",
   "language": "python",
   "name": "python3"
  },
  "language_info": {
   "codemirror_mode": {
    "name": "ipython",
    "version": 3
   },
   "file_extension": ".py",
   "mimetype": "text/x-python",
   "name": "python",
   "nbconvert_exporter": "python",
   "pygments_lexer": "ipython3",
   "version": "3.6.0"
  }
 },
 "nbformat": 4,
 "nbformat_minor": 2
}
