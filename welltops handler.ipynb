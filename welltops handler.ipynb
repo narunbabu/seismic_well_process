{
 "cells": [
  {
   "cell_type": "code",
   "execution_count": 81,
   "metadata": {},
   "outputs": [],
   "source": [
    "import re\n",
    "import pandas as pd\n",
    "\n",
    "# text = 'This is \"a simple\" test'\n",
    "# # (\"[^\"]+\")|\\S+\n",
    "# pat='\"(.+?)\"|(\\w+(?=\\s|$))'\n",
    "# pat='\\\"(.+?)\\\"'\n",
    "def quoteparse(text):\n",
    "    pat='(\"[^\"]+\"|\\s+)'\n",
    "    vals=re.split(pat, text)\n",
    "    return [ val.strip('\"')  for val in vals if len(val.strip())>0]\n",
    "# quoteparse(text)"
   ]
  },
  {
   "cell_type": "code",
   "execution_count": 82,
   "metadata": {},
   "outputs": [
    {
     "name": "stdout",
     "output_type": "stream",
     "text": [
      "-99.0\n"
     ]
    }
   ],
   "source": [
    "\n",
    "# val='-99'\n",
    "# if re.match(pat,val):\n",
    "#     print(float(val))"
   ]
  },
  {
   "cell_type": "code",
   "execution_count": 64,
   "metadata": {},
   "outputs": [],
   "source": [
    "def read_colnames(f,line):\n",
    "    cols=[]    \n",
    "    while 'END HEADER' not in line.strip():        \n",
    "        cols.append(line.strip())            \n",
    "        line=f.readline()\n",
    "#         print(line.strip())\n",
    "    return cols\n",
    "def readrows(f,line):\n",
    "    pat='[+-]?([0-9]*[.])?[0-9]+'\n",
    "    allvals=[]\n",
    "    while line:\n",
    "        vals_str= quoteparse(line)\n",
    "#         print(vals_str)\n",
    "#     return 0\n",
    "        vals=[]\n",
    "        for val in vals_str:\n",
    "            if re.match(pat,val):\n",
    "                vals.append(float(val))\n",
    "            else:\n",
    "                vals.append(val)\n",
    "        allvals.append(vals)\n",
    "        line=f.readline()\n",
    "    return allvals\n",
    "def read_welltops(file):\n",
    "    with open(file) as f:\n",
    "        line=f.readline()\n",
    "        while line:\n",
    "    #         print(line)\n",
    "            line=f.readline()\n",
    "            if line.strip()=='BEGIN HEADER':\n",
    "                line=f.readline()\n",
    "                props=read_colnames(f,line)\n",
    "                line=f.readline()\n",
    "                values=readrows(f,line)\n",
    "                break\n",
    "    welltops={}\n",
    "    for p in props:\n",
    "        welltops[p]=[]\n",
    "    for val in values:\n",
    "        for v,p in zip(val,props):\n",
    "            welltops[p].append(v)\n",
    "    return pd.DataFrame(welltops)\n",
    "# welltops\n",
    "# props\n"
   ]
  },
  {
   "cell_type": "code",
   "execution_count": 78,
   "metadata": {},
   "outputs": [
    {
     "data": {
      "text/plain": [
       "30   -2747.82\n",
       "31   -2770.30\n",
       "Name: Z, dtype: float64"
      ]
     },
     "execution_count": 78,
     "metadata": {},
     "output_type": "execute_result"
    }
   ],
   "source": [
    "# folder=r\"D:\\Ameyem\\D11_inversion\\well_logs\\\\\"\n",
    "# file=folder+'d11_welltops_payzones_220519_sai.dat'\n",
    "# sand_topbots=['Sand-1_Top', 'Sand-1_Bottom']\n",
    "# wt[wt.Surface.isin(sand_topbots)].Z"
   ]
  }
 ],
 "metadata": {
  "kernelspec": {
   "display_name": "Python 3",
   "language": "python",
   "name": "python3"
  },
  "language_info": {
   "codemirror_mode": {
    "name": "ipython",
    "version": 3
   },
   "file_extension": ".py",
   "mimetype": "text/x-python",
   "name": "python",
   "nbconvert_exporter": "python",
   "pygments_lexer": "ipython3",
   "version": "3.6.0"
  }
 },
 "nbformat": 4,
 "nbformat_minor": 2
}
