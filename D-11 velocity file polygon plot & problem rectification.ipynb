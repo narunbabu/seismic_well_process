{
 "cells": [
  {
   "cell_type": "code",
   "execution_count": 9,
   "metadata": {},
   "outputs": [],
   "source": [
    "\n",
    "\n",
    "\n",
    "from petrel_well_file_readers import *\n",
    "import numpy as np\n",
    "%matplotlib inline\n",
    "from matplotlib import pyplot as plt"
   ]
  },
  {
   "cell_type": "code",
   "execution_count": 41,
   "metadata": {},
   "outputs": [],
   "source": [
    "folder=r\"D:\\Ameyem\\D11\\Data\\\\\"\n",
    "def readrows(f,line):\n",
    "    pat='[+-]?([0-9]*[.])?[0-9]+'\n",
    "    allvals=[]\n",
    "    while line:\n",
    "        vals_str= quoteparse(line)\n",
    "        vals=[]\n",
    "        for val in vals_str:\n",
    "            if re.match(pat,val):\n",
    "                vals.append(float(val))\n",
    "            else:\n",
    "                vals.append(val)\n",
    "#         print(len(vals),len(allvals[0]))\n",
    "        if len(allvals)==0:\n",
    "            allvals.append(vals)\n",
    "        else:\n",
    "#             print(len(vals),len(allvals[0]))\n",
    "            if len(vals)==len(allvals[0]):\n",
    "                allvals.append(vals)\n",
    "            else:\n",
    "                print('There is problem in file format please cross check wiith result')\n",
    "        line=f.readline()\n",
    "    return np.array(allvals)\n",
    "def read2cols(file,colnames=['X','Y'],nlines2skip=0 ):\n",
    "# colnames=['X','Y']  \n",
    "    with open(file) as f:        \n",
    "        line='f.readline() '    \n",
    "        for i in range(nlines2skip):\n",
    "            line=f.readline()  \n",
    "        while line:\n",
    "            line=f.readline()\n",
    "            values=readrows(f,line)\n",
    "            break\n",
    "        vals={colnames[i]:values[:,i] for i in range(len(colnames))}\n",
    "    return vals\n",
    "d11antelopus3dfile=folder+\"NEC-OSN-97_2_NORTHsgy_boundary.txt\"\n",
    "d11reliance3dfile=folder+\"reliance_processed_3d_regular_grid_coords.txt\"\n",
    "antel_bound=read2cols(d11antelopus3dfile,colnames=['X','Y'] )\n",
    "rel_bound=read2cols(d11reliance3dfile,colnames=['X','Y'] )\n",
    "\n",
    "antel_bound['X']=np.append(antel_bound['X'],antel_bound['X'][0])\n",
    "antel_bound['Y']=np.append(antel_bound['Y'],antel_bound['Y'][0])\n",
    "\n",
    "rel_bound['X']=np.append(rel_bound['X'],rel_bound['X'][0])\n",
    "rel_bound['Y']=np.append(rel_bound['Y'],rel_bound['Y'][0])\n",
    "\n"
   ]
  },
  {
   "cell_type": "code",
   "execution_count": 18,
   "metadata": {},
   "outputs": [],
   "source": [
    "folder=r'D:\\Ameyem\\D11\\Data\\D11 Seismic Velocity\\NEC-OSN-97_2_NORTH\\\\'\n",
    "velvrmsfile=folder+'NEC25_A1_Final_Stk_Vels_vrms_client_ILXYTV.txt'\n",
    "\n",
    "velvrms_data=read2cols(velvrmsfile,colnames=['IL','XL','X','Y','TWT','Vel'] )\n"
   ]
  },
  {
   "cell_type": "code",
   "execution_count": 33,
   "metadata": {},
   "outputs": [],
   "source": [
    "cornerindexes=np.argmin(velvrms_data['Y']),np.argmin(velvrms_data['X']),np.argmax(velvrms_data['Y']),np.argmax(velvrms_data['X'])"
   ]
  },
  {
   "cell_type": "code",
   "execution_count": 34,
   "metadata": {},
   "outputs": [
    {
     "data": {
      "text/plain": [
       "array([[2.3000000e+03, 7.5000000e+03, 5.8535590e+05, 2.2881378e+06,\n",
       "        0.0000000e+00, 1.5200000e+03],\n",
       "       [2.3000000e+03, 1.5000000e+03, 5.2209450e+05, 2.3284242e+06,\n",
       "        0.0000000e+00, 1.5200000e+03],\n",
       "       [9.0000000e+02, 1.5000000e+03, 5.4089480e+05, 2.3579462e+06,\n",
       "        0.0000000e+00, 1.5200000e+03],\n",
       "       [9.0000000e+02, 7.5000000e+03, 6.0415620e+05, 2.3176598e+06,\n",
       "        0.0000000e+00, 1.5200000e+03]])"
      ]
     },
     "execution_count": 34,
     "metadata": {},
     "output_type": "execute_result"
    }
   ],
   "source": [
    "vel_data_corners=np.zeros((len(cornerindexes),len(velvrms_data.keys())))\n",
    "for i,indx in enumerate(cornerindexes):\n",
    "    for j,key in enumerate(velvrms_data):\n",
    "#         print(key)\n",
    "        vel_data_corners[i,j]=velvrms_data[key][indx]\n",
    "vel_data_corners"
   ]
  },
  {
   "cell_type": "code",
   "execution_count": 32,
   "metadata": {},
   "outputs": [
    {
     "data": {
      "text/plain": [
       "{'X': array([599998.7678, 553712.5169, 598430.4543, 644716.7051, 599998.7678]),\n",
       " 'Y': array([2234294.9238, 2263771.1617, 2333991.3054, 2304515.0675,\n",
       "        2234294.9238])}"
      ]
     },
     "execution_count": 32,
     "metadata": {},
     "output_type": "execute_result"
    }
   ],
   "source": [
    "rel_bound"
   ]
  },
  {
   "cell_type": "code",
   "execution_count": 35,
   "metadata": {},
   "outputs": [],
   "source": []
  },
  {
   "cell_type": "code",
   "execution_count": 48,
   "metadata": {},
   "outputs": [
    {
     "data": {
      "text/plain": [
       "{'IL': array([2955., 3282., 3282., 1950., 1001., 1001., 1879., 2955.]),\n",
       " 'XL': array([3909., 2837., 2002., 2028., 2048., 3888., 3897., 3909.]),\n",
       " 'X': array([598459., 614148., 622960., 604800., 591866., 572448., 584139.,\n",
       "        598459.]),\n",
       " 'Y': array([2322820. , 2322520. , 2316908.8, 2289000. , 2269113. , 2281479. ,\n",
       "        2300061. , 2322820. ])}"
      ]
     },
     "execution_count": 48,
     "metadata": {},
     "output_type": "execute_result"
    }
   ],
   "source": [
    "d11reliance3dprocessingbound=folder+\"reliance_processing_boundary_limits.txt\"\n",
    "proc_limits_bound=read2cols(d11reliance3dprocessingbound,colnames=['IL','XL','X','Y'],nlines2skip=1)\n",
    "proc_limits_bound"
   ]
  },
  {
   "cell_type": "code",
   "execution_count": 59,
   "metadata": {},
   "outputs": [
    {
     "data": {
      "text/plain": [
       "[<matplotlib.lines.Line2D at 0x290d85519e8>,\n",
       " <matplotlib.lines.Line2D at 0x290d8551b38>,\n",
       " <matplotlib.lines.Line2D at 0x290d8551c88>]"
      ]
     },
     "execution_count": 59,
     "metadata": {},
     "output_type": "execute_result"
    },
    {
     "data": {
      "image/png": "[encoded data removed]",
      "text/plain": [
       "<Figure size 432x288 with 1 Axes>"
      ]
     },
     "metadata": {
      "needs_background": "light"
     },
     "output_type": "display_data"
    }
   ],
   "source": [
    "veldataxys={'X':vel_data_corners[:,2],'Y':vel_data_corners[:,3]}\n",
    "veldataxys['X']=np.append(veldataxys['X'],veldataxys['X'][0])\n",
    "veldataxys['Y']=np.append(veldataxys['Y'],veldataxys['Y'][0])\n",
    "plt.plot(antel_bound['X'],antel_bound['Y'],'-'#,rel_bound['X'],rel_bound['Y'],'-'\n",
    "         ,veldataxys['X'],veldataxys['Y'],'-r',proc_limits_bound['X'],proc_limits_bound['Y'],'-g')"
   ]
  },
  {
   "cell_type": "code",
   "execution_count": 58,
   "metadata": {},
   "outputs": [
    {
     "data": {
      "text/plain": [
       "[<matplotlib.lines.Line2D at 0x290d84ef710>,\n",
       " <matplotlib.lines.Line2D at 0x290d84ef860>]"
      ]
     },
     "execution_count": 58,
     "metadata": {},
     "output_type": "execute_result"
    },
    {
     "data": {
      "image/png": "[encoded data removed]",
      "text/plain": [
       "<Figure size 432x288 with 1 Axes>"
      ]
     },
     "metadata": {
      "needs_background": "light"
     },
     "output_type": "display_data"
    }
   ],
   "source": [
    "veldataxys={'X':vel_data_corners[:,0],'Y':vel_data_corners[:,1]}\n",
    "veldataxys['X']=np.append(veldataxys['X'],veldataxys['X'][0])\n",
    "veldataxys['Y']=np.append(veldataxys['Y'],veldataxys['Y'][0])\n",
    "plt.plot(proc_limits_bound['IL'],proc_limits_bound['XL'],'-g',veldataxys['X'],veldataxys['Y'],'-r')"
   ]
  }
 ],
 "metadata": {
  "kernelspec": {
   "display_name": "Python 3",
   "language": "python",
   "name": "python3"
  },
  "language_info": {
   "codemirror_mode": {
    "name": "ipython",
    "version": 3
   },
   "file_extension": ".py",
   "mimetype": "text/x-python",
   "name": "python",
   "nbconvert_exporter": "python",
   "pygments_lexer": "ipython3",
   "version": "3.7.1"
  }
 },
 "nbformat": 4,
 "nbformat_minor": 2
}
