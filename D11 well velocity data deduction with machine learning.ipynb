{
 "cells": [
  {
   "cell_type": "code",
   "execution_count": 191,
   "metadata": {},
   "outputs": [],
   "source": [
    "file=r'D:\\Ameyem\\D11\\Data\\NEC_North_4wells_TD_realtionaftersynthetic_tie.xlsx'\n",
    "import pandas as pd\n",
    "import numpy as np\n",
    "%matplotlib inline\n",
    "import matplotlib.pyplot as plt"
   ]
  },
  {
   "cell_type": "code",
   "execution_count": 192,
   "metadata": {},
   "outputs": [],
   "source": [
    "## Get the TD relation data from synthtic tied check shots\n",
    "d11_well_df=pd.read_excel(file)\n",
    "\n",
    "fields=d11_well_df.keys().values\n",
    "# d11_well_df[fields[0]]\n",
    "\n",
    "# plt.plot(d11_well_df[fields[0]],d11_well_df[fields[1]])\n",
    "# d11_well_df\n",
    "# d11_well_df['TVDSS']=-d11_well_df['TVDSS'].values\n",
    "# d11_well_df['TWT']=-d11_well_df['TWT'].values"
   ]
  },
  {
   "cell_type": "code",
   "execution_count": 229,
   "metadata": {},
   "outputs": [
    {
     "data": {
      "text/html": [
       "<div>\n",
       "<style scoped>\n",
       "    .dataframe tbody tr th:only-of-type {\n",
       "        vertical-align: middle;\n",
       "    }\n",
       "\n",
       "    .dataframe tbody tr th {\n",
       "        vertical-align: top;\n",
       "    }\n",
       "\n",
       "    .dataframe thead th {\n",
       "        text-align: right;\n",
       "    }\n",
       "</style>\n",
       "<table border=\"1\" class=\"dataframe\">\n",
       "  <thead>\n",
       "    <tr style=\"text-align: right;\">\n",
       "      <th></th>\n",
       "      <th>TVDSS</th>\n",
       "      <th>TWT</th>\n",
       "      <th>Average velocity</th>\n",
       "      <th>Interval velocity</th>\n",
       "      <th>Well</th>\n",
       "    </tr>\n",
       "  </thead>\n",
       "  <tbody>\n",
       "    <tr>\n",
       "      <th>710</th>\n",
       "      <td>-26.5</td>\n",
       "      <td>-35.76</td>\n",
       "      <td>1482.0</td>\n",
       "      <td>1482.0</td>\n",
       "      <td>A3(D10)</td>\n",
       "    </tr>\n",
       "    <tr>\n",
       "      <th>711</th>\n",
       "      <td>-21.5</td>\n",
       "      <td>-29.01</td>\n",
       "      <td>1482.0</td>\n",
       "      <td>1482.0</td>\n",
       "      <td>A3(D10)</td>\n",
       "    </tr>\n",
       "    <tr>\n",
       "      <th>712</th>\n",
       "      <td>-16.5</td>\n",
       "      <td>-22.27</td>\n",
       "      <td>1482.0</td>\n",
       "      <td>1482.0</td>\n",
       "      <td>A3(D10)</td>\n",
       "    </tr>\n",
       "    <tr>\n",
       "      <th>713</th>\n",
       "      <td>-11.5</td>\n",
       "      <td>-15.52</td>\n",
       "      <td>1482.0</td>\n",
       "      <td>1482.0</td>\n",
       "      <td>A3(D10)</td>\n",
       "    </tr>\n",
       "    <tr>\n",
       "      <th>714</th>\n",
       "      <td>-6.5</td>\n",
       "      <td>-8.77</td>\n",
       "      <td>1482.0</td>\n",
       "      <td>1482.0</td>\n",
       "      <td>A3(D10)</td>\n",
       "    </tr>\n",
       "  </tbody>\n",
       "</table>\n",
       "</div>"
      ],
      "text/plain": [
       "     TVDSS    TWT  Average velocity  Interval velocity     Well\n",
       "710  -26.5 -35.76            1482.0             1482.0  A3(D10)\n",
       "711  -21.5 -29.01            1482.0             1482.0  A3(D10)\n",
       "712  -16.5 -22.27            1482.0             1482.0  A3(D10)\n",
       "713  -11.5 -15.52            1482.0             1482.0  A3(D10)\n",
       "714   -6.5  -8.77            1482.0             1482.0  A3(D10)"
      ]
     },
     "execution_count": 229,
     "metadata": {},
     "output_type": "execute_result"
    }
   ],
   "source": [
    "folder=r\"..\\d11_data\\\\\"\n",
    "from petrel_well_file_readers import *\n",
    "# well_tops_file=folder+'d11_welltops_payzones_220519_sai.dat'\n",
    "well_tops_file=folder+'Sunder_WellTops_SR.dat'\n",
    "# well_tops_file=folder+'manabesh_sand_zones.dat'\n",
    "wt=read_welltops(well_tops_file)\n",
    "wt=wt.sort_values(['MD'])\n",
    "# wt\n",
    "\n",
    "## Get the required well tops data from well tops file\n",
    "wells_names=wt.Well.unique()\n",
    "# wt.Surface.unique()\n",
    "# wt['MD'].values.astype(float)\n",
    "wt.Surface.unique()\n",
    "# wt[wt.Surface.isin(req_tops)][wt.Well=='NEC25-A1']\n",
    "# well_name=wells_names[0]\n",
    "# wt[wt.Well==well_name].Surface.values\n",
    "req_tops=['Water Bottom','P_Sand_380_T', 'P_Sand_330_T','P_Sand_290_T','P_Sand_270_T','LPU','M_Sand_80_T', 'M_Sand_70_T','ULMSB','LM_sand_60_T',\n",
    " 'LM_sand_40_T','ULMSB_1']\n",
    "req_data=wt[wt.Surface.isin(req_tops)][['Z','TWT auto','Well','Surface','X','Y']]\n",
    "\n",
    "req_data[['TWT auto','Z']]=-req_data[['TWT auto','Z']].values.astype(float)\n",
    "req_data[['X','Y']]=req_data[['X','Y']].values.astype(float)\n",
    "# req_data\n",
    "# d11_well_df['Well'].unique()\n",
    "d11_well_df[d11_well_df.Well==td_wells[i]].head()"
   ]
  },
  {
   "cell_type": "code",
   "execution_count": 230,
   "metadata": {},
   "outputs": [],
   "source": [
    "wtop_wells=['NEC25-A2(D15)', 'NEC25-A4(D11)', 'NEC25-A1(D9)', 'NEC25-A3(D10)']\n",
    "td_wells=['A2(D15)', 'A4(D11)', 'A1(D9)', 'A3(D10)']\n",
    "\n",
    "i=0\n",
    "# d11_well_df[d11_well_df.Well==td_wells[i]]\n",
    "single_well_td_df=d11_well_df[d11_well_df.Well==td_wells[i]]"
   ]
  },
  {
   "cell_type": "code",
   "execution_count": 231,
   "metadata": {},
   "outputs": [],
   "source": [
    "from sklearn.linear_model import LinearRegression\n",
    "from sklearn.preprocessing import PolynomialFeatures\n",
    "def predictivemodel4Y(df,lables=['X','Y']):\n",
    "    # X=chkt['MD'].values\n",
    "    X=df[lables[0]].values\n",
    "    X.shape=len(X),1\n",
    "    y=df[lables[1]].values\n",
    "    return LinearRegression().fit(X, y)\n",
    "    # md2twt.predict(diabetes_X_test)\n",
    "def polypredict4Y(df,lables=['X','Y'],degree=2):\n",
    "    # PolynomialFeatures (prepreprocessing)\n",
    "    poly = PolynomialFeatures(degree=degree)\n",
    "    X=df[lables[0]].values\n",
    "    X.shape=len(X),1    \n",
    "    X_ = poly.fit_transform(X)\n",
    "#     X_test_ = poly.fit_transform(X_test)\n",
    "    y=df[lables[1]].values\n",
    "    # Instantiate\n",
    "    lg = LinearRegression()\n",
    "    # Fit\n",
    "    lg.fit(X_, y)   \n",
    "    \n",
    "    return poly,lg"
   ]
  },
  {
   "cell_type": "code",
   "execution_count": 232,
   "metadata": {},
   "outputs": [],
   "source": [
    "## Calculation of TWT with the well tied checkshot data\n",
    "req_data['TWT']=0\n",
    "for i in range(len(wtop_wells)):\n",
    "    single_well=req_data[req_data.Well==wtop_wells[i]]\n",
    "    single_well_td_df=d11_well_df[d11_well_df.Well==td_wells[i]]    \n",
    "#     pol,lg=polypredict4Y(single_well_td_df,lables=['TVDSS','TWT'],degree=3)    \n",
    "#     mtvdss2twt=redictivemodel4Y(single_well,lables=['TVDSS','TWT'])\n",
    "    for idx,v in zip(single_well.index,single_well['Z'].values):\n",
    "        tempdf=single_well_td_df[(single_well_td_df['TVDSS'].values>= v-5) & (single_well_td_df['TVDSS'].values <= v+5)]\n",
    "        mtvdss2twt=predictivemodel4Y(tempdf,lables=['TVDSS','TWT'])\n",
    "        req_data.loc[req_data.index==idx,'TWT']=mtvdss2twt.predict([[v]])[0]\n",
    "        \n",
    "#         print(v,mtvdss2twt.predict([[v]])[0],end=',')\n",
    "#         print(req_data['Well'].iloc[[i]])\n",
    "\n",
    "\n",
    "\n",
    "\n",
    "# xt=np.array([2730,2817.63,2821.41])\n",
    "# xt.shape=len(xt),1\n",
    "# lg.predict(pol.fit_transform(xt))"
   ]
  },
  {
   "cell_type": "code",
   "execution_count": 240,
   "metadata": {},
   "outputs": [],
   "source": [
    "# # req_data['TWT']=0\n",
    "# for idx,z in zip(single_well.index,single_well['Z'].values):\n",
    "#     print(idx,z)\n",
    "#     req_data.loc[req_data.index==idx,'TWT']=mtvdss2twt\n",
    "# #     single_well['Z']\n",
    "# req_data"
   ]
  },
  {
   "cell_type": "code",
   "execution_count": 234,
   "metadata": {},
   "outputs": [],
   "source": [
    "# for top,bottom in zip(req_tops[:-1],req_tops[1:]):\n",
    "#     print(top,bottom )\n",
    "#     for i in range(len(wtop_wells)):\n",
    "#     single_well=req_data[req_data.Well==wtop_wells[i]]\n",
    "# req_data.loc[req_data.Well==w,'TWT']=[77.0,1165.3,1296.12,1365.1,1397.72,1564.22]\n",
    "# req_data.loc[req_data.Well==w,'TWT']"
   ]
  },
  {
   "cell_type": "code",
   "execution_count": 239,
   "metadata": {},
   "outputs": [
    {
     "name": "stdout",
     "output_type": "stream",
     "text": [
      "Water Bottom P_Sand_380_T\n",
      "P_Sand_380_T P_Sand_330_T\n",
      "P_Sand_330_T P_Sand_290_T\n",
      "P_Sand_290_T P_Sand_270_T\n",
      "P_Sand_270_T LPU\n",
      "LPU M_Sand_80_T\n",
      "Not allocated\n",
      "M_Sand_80_T M_Sand_70_T\n",
      "Not allocated\n",
      "M_Sand_70_T ULMSB\n",
      "Not allocated\n",
      "Not allocated\n",
      "ULMSB LM_sand_60_T\n",
      "Not allocated\n",
      "Not allocated\n",
      "Not allocated\n",
      "LM_sand_60_T LM_sand_40_T\n",
      "Not allocated\n",
      "Not allocated\n",
      "Not allocated\n",
      "LM_sand_40_T ULMSB_1\n",
      "Not allocated\n",
      "Not allocated\n",
      "Not allocated\n"
     ]
    },
    {
     "data": {
      "text/html": [
       "<div>\n",
       "<style scoped>\n",
       "    .dataframe tbody tr th:only-of-type {\n",
       "        vertical-align: middle;\n",
       "    }\n",
       "\n",
       "    .dataframe tbody tr th {\n",
       "        vertical-align: top;\n",
       "    }\n",
       "\n",
       "    .dataframe thead th {\n",
       "        text-align: right;\n",
       "    }\n",
       "</style>\n",
       "<table border=\"1\" class=\"dataframe\">\n",
       "  <thead>\n",
       "    <tr style=\"text-align: right;\">\n",
       "      <th></th>\n",
       "      <th>Lid</th>\n",
       "      <th>Well</th>\n",
       "      <th>TopLayer</th>\n",
       "      <th>Bot_Layer</th>\n",
       "      <th>isochrone</th>\n",
       "      <th>isopack</th>\n",
       "      <th>TWT2middle</th>\n",
       "      <th>Z2middle</th>\n",
       "      <th>Vint</th>\n",
       "      <th>X</th>\n",
       "      <th>Y</th>\n",
       "    </tr>\n",
       "  </thead>\n",
       "  <tbody>\n",
       "    <tr>\n",
       "      <th>0</th>\n",
       "      <td>0</td>\n",
       "      <td>NEC25-A2(D15)</td>\n",
       "      <td>Water Bottom</td>\n",
       "      <td>P_Sand_380_T</td>\n",
       "      <td>1052.21</td>\n",
       "      <td>1088.3</td>\n",
       "      <td>579.414</td>\n",
       "      <td>621.15</td>\n",
       "      <td>2144.06</td>\n",
       "      <td>589992</td>\n",
       "      <td>2.2847e+06</td>\n",
       "    </tr>\n",
       "    <tr>\n",
       "      <th>1</th>\n",
       "      <td>0</td>\n",
       "      <td>NEC25-A4(D11)</td>\n",
       "      <td>Water Bottom</td>\n",
       "      <td>P_Sand_380_T</td>\n",
       "      <td>985.428</td>\n",
       "      <td>1067.46</td>\n",
       "      <td>622.892</td>\n",
       "      <td>610.73</td>\n",
       "      <td>1960.95</td>\n",
       "      <td>589503</td>\n",
       "      <td>2.28253e+06</td>\n",
       "    </tr>\n",
       "    <tr>\n",
       "      <th>2</th>\n",
       "      <td>0</td>\n",
       "      <td>NEC25-A1(D9)</td>\n",
       "      <td>Water Bottom</td>\n",
       "      <td>P_Sand_380_T</td>\n",
       "      <td>1096.91</td>\n",
       "      <td>1129.3</td>\n",
       "      <td>616.32</td>\n",
       "      <td>628.65</td>\n",
       "      <td>2040.01</td>\n",
       "      <td>593998</td>\n",
       "      <td>2.29299e+06</td>\n",
       "    </tr>\n",
       "    <tr>\n",
       "      <th>3</th>\n",
       "      <td>0</td>\n",
       "      <td>NEC25-A3(D10)</td>\n",
       "      <td>Water Bottom</td>\n",
       "      <td>P_Sand_380_T</td>\n",
       "      <td>1066.39</td>\n",
       "      <td>1112.91</td>\n",
       "      <td>627.764</td>\n",
       "      <td>640.425</td>\n",
       "      <td>2040.34</td>\n",
       "      <td>582928</td>\n",
       "      <td>2.27682e+06</td>\n",
       "    </tr>\n",
       "    <tr>\n",
       "      <th>4</th>\n",
       "      <td>1</td>\n",
       "      <td>NEC25-A2(D15)</td>\n",
       "      <td>P_Sand_380_T</td>\n",
       "      <td>P_Sand_330_T</td>\n",
       "      <td>112.13</td>\n",
       "      <td>130.82</td>\n",
       "      <td>1161.58</td>\n",
       "      <td>1230.71</td>\n",
       "      <td>2119.02</td>\n",
       "      <td>589992</td>\n",
       "      <td>2.28478e+06</td>\n",
       "    </tr>\n",
       "    <tr>\n",
       "      <th>5</th>\n",
       "      <td>1</td>\n",
       "      <td>NEC25-A4(D11)</td>\n",
       "      <td>P_Sand_380_T</td>\n",
       "      <td>P_Sand_330_T</td>\n",
       "      <td>103.029</td>\n",
       "      <td>127.44</td>\n",
       "      <td>1167.12</td>\n",
       "      <td>1208.18</td>\n",
       "      <td>2070.36</td>\n",
       "      <td>589511</td>\n",
       "      <td>2.28253e+06</td>\n",
       "    </tr>\n",
       "    <tr>\n",
       "      <th>6</th>\n",
       "      <td>1</td>\n",
       "      <td>NEC25-A1(D9)</td>\n",
       "      <td>P_Sand_380_T</td>\n",
       "      <td>P_Sand_330_T</td>\n",
       "      <td>88.9786</td>\n",
       "      <td>114.17</td>\n",
       "      <td>1209.27</td>\n",
       "      <td>1250.38</td>\n",
       "      <td>2068.01</td>\n",
       "      <td>593967</td>\n",
       "      <td>2.29297e+06</td>\n",
       "    </tr>\n",
       "    <tr>\n",
       "      <th>7</th>\n",
       "      <td>1</td>\n",
       "      <td>NEC25-A3(D10)</td>\n",
       "      <td>P_Sand_380_T</td>\n",
       "      <td>P_Sand_330_T</td>\n",
       "      <td>91.053</td>\n",
       "      <td>117.99</td>\n",
       "      <td>1206.49</td>\n",
       "      <td>1255.88</td>\n",
       "      <td>2081.87</td>\n",
       "      <td>582939</td>\n",
       "      <td>2.27682e+06</td>\n",
       "    </tr>\n",
       "    <tr>\n",
       "      <th>8</th>\n",
       "      <td>2</td>\n",
       "      <td>NEC25-A2(D15)</td>\n",
       "      <td>P_Sand_330_T</td>\n",
       "      <td>P_Sand_290_T</td>\n",
       "      <td>55.3097</td>\n",
       "      <td>68.98</td>\n",
       "      <td>1245.3</td>\n",
       "      <td>1330.61</td>\n",
       "      <td>2137</td>\n",
       "      <td>589995</td>\n",
       "      <td>2.28485e+06</td>\n",
       "    </tr>\n",
       "    <tr>\n",
       "      <th>9</th>\n",
       "      <td>2</td>\n",
       "      <td>NEC25-A4(D11)</td>\n",
       "      <td>P_Sand_330_T</td>\n",
       "      <td>P_Sand_290_T</td>\n",
       "      <td>51.4275</td>\n",
       "      <td>65.08</td>\n",
       "      <td>1244.35</td>\n",
       "      <td>1304.44</td>\n",
       "      <td>2096.58</td>\n",
       "      <td>589514</td>\n",
       "      <td>2.28253e+06</td>\n",
       "    </tr>\n",
       "    <tr>\n",
       "      <th>10</th>\n",
       "      <td>2</td>\n",
       "      <td>NEC25-A1(D9)</td>\n",
       "      <td>P_Sand_330_T</td>\n",
       "      <td>P_Sand_290_T</td>\n",
       "      <td>49.1596</td>\n",
       "      <td>65.02</td>\n",
       "      <td>1278.33</td>\n",
       "      <td>1339.98</td>\n",
       "      <td>2096.45</td>\n",
       "      <td>593961</td>\n",
       "      <td>2.29297e+06</td>\n",
       "    </tr>\n",
       "    <tr>\n",
       "      <th>11</th>\n",
       "      <td>2</td>\n",
       "      <td>NEC25-A3(D10)</td>\n",
       "      <td>P_Sand_330_T</td>\n",
       "      <td>P_Sand_290_T</td>\n",
       "      <td>53.8094</td>\n",
       "      <td>70.34</td>\n",
       "      <td>1278.92</td>\n",
       "      <td>1350.04</td>\n",
       "      <td>2111.22</td>\n",
       "      <td>582942</td>\n",
       "      <td>2.27682e+06</td>\n",
       "    </tr>\n",
       "    <tr>\n",
       "      <th>12</th>\n",
       "      <td>3</td>\n",
       "      <td>NEC25-A2(D15)</td>\n",
       "      <td>P_Sand_290_T</td>\n",
       "      <td>P_Sand_270_T</td>\n",
       "      <td>27.273</td>\n",
       "      <td>32.62</td>\n",
       "      <td>1286.6</td>\n",
       "      <td>1381.41</td>\n",
       "      <td>2147.39</td>\n",
       "      <td>589997</td>\n",
       "      <td>2.2849e+06</td>\n",
       "    </tr>\n",
       "    <tr>\n",
       "      <th>13</th>\n",
       "      <td>3</td>\n",
       "      <td>NEC25-A4(D11)</td>\n",
       "      <td>P_Sand_290_T</td>\n",
       "      <td>P_Sand_270_T</td>\n",
       "      <td>42.0669</td>\n",
       "      <td>49.17</td>\n",
       "      <td>1291.1</td>\n",
       "      <td>1361.57</td>\n",
       "      <td>2109.16</td>\n",
       "      <td>589516</td>\n",
       "      <td>2.28253e+06</td>\n",
       "    </tr>\n",
       "    <tr>\n",
       "      <th>14</th>\n",
       "      <td>3</td>\n",
       "      <td>NEC25-A1(D9)</td>\n",
       "      <td>P_Sand_290_T</td>\n",
       "      <td>P_Sand_270_T</td>\n",
       "      <td>42.3653</td>\n",
       "      <td>53.98</td>\n",
       "      <td>1324.1</td>\n",
       "      <td>1399.48</td>\n",
       "      <td>2113.86</td>\n",
       "      <td>593956</td>\n",
       "      <td>2.29296e+06</td>\n",
       "    </tr>\n",
       "    <tr>\n",
       "      <th>15</th>\n",
       "      <td>3</td>\n",
       "      <td>NEC25-A3(D10)</td>\n",
       "      <td>P_Sand_290_T</td>\n",
       "      <td>P_Sand_270_T</td>\n",
       "      <td>42.9589</td>\n",
       "      <td>56.83</td>\n",
       "      <td>1327.3</td>\n",
       "      <td>1413.62</td>\n",
       "      <td>2130.07</td>\n",
       "      <td>582944</td>\n",
       "      <td>2.27682e+06</td>\n",
       "    </tr>\n",
       "    <tr>\n",
       "      <th>16</th>\n",
       "      <td>4</td>\n",
       "      <td>NEC25-A2(D15)</td>\n",
       "      <td>P_Sand_270_T</td>\n",
       "      <td>LPU</td>\n",
       "      <td>127.888</td>\n",
       "      <td>166.5</td>\n",
       "      <td>1364.18</td>\n",
       "      <td>1480.97</td>\n",
       "      <td>2171.23</td>\n",
       "      <td>590000</td>\n",
       "      <td>2.28502e+06</td>\n",
       "    </tr>\n",
       "    <tr>\n",
       "      <th>17</th>\n",
       "      <td>4</td>\n",
       "      <td>NEC25-A4(D11)</td>\n",
       "      <td>P_Sand_270_T</td>\n",
       "      <td>LPU</td>\n",
       "      <td>12.2222</td>\n",
       "      <td>15.02</td>\n",
       "      <td>1318.24</td>\n",
       "      <td>1393.66</td>\n",
       "      <td>2114.42</td>\n",
       "      <td>589517</td>\n",
       "      <td>2.28253e+06</td>\n",
       "    </tr>\n",
       "    <tr>\n",
       "      <th>18</th>\n",
       "      <td>4</td>\n",
       "      <td>NEC25-A1(D9)</td>\n",
       "      <td>P_Sand_270_T</td>\n",
       "      <td>LPU</td>\n",
       "      <td>9.26281</td>\n",
       "      <td>12.35</td>\n",
       "      <td>1349.91</td>\n",
       "      <td>1432.64</td>\n",
       "      <td>2122.58</td>\n",
       "      <td>593954</td>\n",
       "      <td>2.29296e+06</td>\n",
       "    </tr>\n",
       "    <tr>\n",
       "      <th>19</th>\n",
       "      <td>4</td>\n",
       "      <td>NEC25-A3(D10)</td>\n",
       "      <td>P_Sand_270_T</td>\n",
       "      <td>LPU</td>\n",
       "      <td>81.1443</td>\n",
       "      <td>106.71</td>\n",
       "      <td>1389.35</td>\n",
       "      <td>1495.39</td>\n",
       "      <td>2152.65</td>\n",
       "      <td>582946</td>\n",
       "      <td>2.27682e+06</td>\n",
       "    </tr>\n",
       "    <tr>\n",
       "      <th>20</th>\n",
       "      <td>5</td>\n",
       "      <td>NEC25-A2(D15)</td>\n",
       "      <td>LPU</td>\n",
       "      <td>M_Sand_80_T</td>\n",
       "      <td>224.686</td>\n",
       "      <td>307.48</td>\n",
       "      <td>1540.46</td>\n",
       "      <td>1717.96</td>\n",
       "      <td>2230.45</td>\n",
       "      <td>589999</td>\n",
       "      <td>2.28532e+06</td>\n",
       "    </tr>\n",
       "    <tr>\n",
       "      <th>21</th>\n",
       "      <td>5</td>\n",
       "      <td>NEC25-A4(D11)</td>\n",
       "      <td>LPU</td>\n",
       "      <td>M_Sand_80_T</td>\n",
       "      <td>347.16</td>\n",
       "      <td>474.06</td>\n",
       "      <td>1497.93</td>\n",
       "      <td>1638.2</td>\n",
       "      <td>2187.28</td>\n",
       "      <td>589524</td>\n",
       "      <td>2.28253e+06</td>\n",
       "    </tr>\n",
       "    <tr>\n",
       "      <th>22</th>\n",
       "      <td>5</td>\n",
       "      <td>NEC25-A1(D9)</td>\n",
       "      <td>LPU</td>\n",
       "      <td>M_Sand_80_T</td>\n",
       "      <td>306.794</td>\n",
       "      <td>427.76</td>\n",
       "      <td>1507.94</td>\n",
       "      <td>1652.7</td>\n",
       "      <td>2192</td>\n",
       "      <td>593937</td>\n",
       "      <td>2.29296e+06</td>\n",
       "    </tr>\n",
       "    <tr>\n",
       "      <th>23</th>\n",
       "      <td>6</td>\n",
       "      <td>NEC25-A2(D15)</td>\n",
       "      <td>M_Sand_80_T</td>\n",
       "      <td>M_Sand_70_T</td>\n",
       "      <td>28.254</td>\n",
       "      <td>38.72</td>\n",
       "      <td>1666.93</td>\n",
       "      <td>1891.06</td>\n",
       "      <td>2268.91</td>\n",
       "      <td>589996</td>\n",
       "      <td>2.28552e+06</td>\n",
       "    </tr>\n",
       "    <tr>\n",
       "      <th>24</th>\n",
       "      <td>6</td>\n",
       "      <td>NEC25-A4(D11)</td>\n",
       "      <td>M_Sand_80_T</td>\n",
       "      <td>M_Sand_70_T</td>\n",
       "      <td>18.7659</td>\n",
       "      <td>28.59</td>\n",
       "      <td>1680.9</td>\n",
       "      <td>1889.53</td>\n",
       "      <td>2248.24</td>\n",
       "      <td>589532</td>\n",
       "      <td>2.28254e+06</td>\n",
       "    </tr>\n",
       "    <tr>\n",
       "      <th>25</th>\n",
       "      <td>6</td>\n",
       "      <td>NEC25-A1(D9)</td>\n",
       "      <td>M_Sand_80_T</td>\n",
       "      <td>M_Sand_70_T</td>\n",
       "      <td>17.5771</td>\n",
       "      <td>25.52</td>\n",
       "      <td>1670.13</td>\n",
       "      <td>1879.34</td>\n",
       "      <td>2250.54</td>\n",
       "      <td>593919</td>\n",
       "      <td>2.29295e+06</td>\n",
       "    </tr>\n",
       "    <tr>\n",
       "      <th>26</th>\n",
       "      <td>7</td>\n",
       "      <td>NEC25-A2(D15)</td>\n",
       "      <td>M_Sand_70_T</td>\n",
       "      <td>ULMSB</td>\n",
       "      <td>75.5657</td>\n",
       "      <td>107.88</td>\n",
       "      <td>1718.84</td>\n",
       "      <td>1964.36</td>\n",
       "      <td>2285.68</td>\n",
       "      <td>589998</td>\n",
       "      <td>2.2856e+06</td>\n",
       "    </tr>\n",
       "    <tr>\n",
       "      <th>27</th>\n",
       "      <td>7</td>\n",
       "      <td>NEC25-A1(D9)</td>\n",
       "      <td>M_Sand_70_T</td>\n",
       "      <td>ULMSB</td>\n",
       "      <td>40.471</td>\n",
       "      <td>58.75</td>\n",
       "      <td>1699.15</td>\n",
       "      <td>1921.47</td>\n",
       "      <td>2261.69</td>\n",
       "      <td>593917</td>\n",
       "      <td>2.29295e+06</td>\n",
       "    </tr>\n",
       "    <tr>\n",
       "      <th>28</th>\n",
       "      <td>8</td>\n",
       "      <td>NEC25-A1(D9)</td>\n",
       "      <td>ULMSB</td>\n",
       "      <td>LM_sand_60_T</td>\n",
       "      <td>19.1374</td>\n",
       "      <td>28.04</td>\n",
       "      <td>1728.95</td>\n",
       "      <td>1964.87</td>\n",
       "      <td>2272.9</td>\n",
       "      <td>593915</td>\n",
       "      <td>2.29295e+06</td>\n",
       "    </tr>\n",
       "    <tr>\n",
       "      <th>29</th>\n",
       "      <td>9</td>\n",
       "      <td>NEC25-A1(D9)</td>\n",
       "      <td>LM_sand_60_T</td>\n",
       "      <td>LM_sand_40_T</td>\n",
       "      <td>52.1086</td>\n",
       "      <td>76.65</td>\n",
       "      <td>1764.58</td>\n",
       "      <td>2017.22</td>\n",
       "      <td>2286.34</td>\n",
       "      <td>593912</td>\n",
       "      <td>2.29294e+06</td>\n",
       "    </tr>\n",
       "    <tr>\n",
       "      <th>30</th>\n",
       "      <td>10</td>\n",
       "      <td>NEC25-A1(D9)</td>\n",
       "      <td>LM_sand_40_T</td>\n",
       "      <td>ULMSB_1</td>\n",
       "      <td>14.7577</td>\n",
       "      <td>22.11</td>\n",
       "      <td>1798.01</td>\n",
       "      <td>2066.6</td>\n",
       "      <td>2298.76</td>\n",
       "      <td>593909</td>\n",
       "      <td>2.29294e+06</td>\n",
       "    </tr>\n",
       "  </tbody>\n",
       "</table>\n",
       "</div>"
      ],
      "text/plain": [
       "   Lid           Well      TopLayer     Bot_Layer isochrone  isopack  \\\n",
       "0    0  NEC25-A2(D15)  Water Bottom  P_Sand_380_T   1052.21   1088.3   \n",
       "1    0  NEC25-A4(D11)  Water Bottom  P_Sand_380_T   985.428  1067.46   \n",
       "2    0   NEC25-A1(D9)  Water Bottom  P_Sand_380_T   1096.91   1129.3   \n",
       "3    0  NEC25-A3(D10)  Water Bottom  P_Sand_380_T   1066.39  1112.91   \n",
       "4    1  NEC25-A2(D15)  P_Sand_380_T  P_Sand_330_T    112.13   130.82   \n",
       "5    1  NEC25-A4(D11)  P_Sand_380_T  P_Sand_330_T   103.029   127.44   \n",
       "6    1   NEC25-A1(D9)  P_Sand_380_T  P_Sand_330_T   88.9786   114.17   \n",
       "7    1  NEC25-A3(D10)  P_Sand_380_T  P_Sand_330_T    91.053   117.99   \n",
       "8    2  NEC25-A2(D15)  P_Sand_330_T  P_Sand_290_T   55.3097    68.98   \n",
       "9    2  NEC25-A4(D11)  P_Sand_330_T  P_Sand_290_T   51.4275    65.08   \n",
       "10   2   NEC25-A1(D9)  P_Sand_330_T  P_Sand_290_T   49.1596    65.02   \n",
       "11   2  NEC25-A3(D10)  P_Sand_330_T  P_Sand_290_T   53.8094    70.34   \n",
       "12   3  NEC25-A2(D15)  P_Sand_290_T  P_Sand_270_T    27.273    32.62   \n",
       "13   3  NEC25-A4(D11)  P_Sand_290_T  P_Sand_270_T   42.0669    49.17   \n",
       "14   3   NEC25-A1(D9)  P_Sand_290_T  P_Sand_270_T   42.3653    53.98   \n",
       "15   3  NEC25-A3(D10)  P_Sand_290_T  P_Sand_270_T   42.9589    56.83   \n",
       "16   4  NEC25-A2(D15)  P_Sand_270_T           LPU   127.888    166.5   \n",
       "17   4  NEC25-A4(D11)  P_Sand_270_T           LPU   12.2222    15.02   \n",
       "18   4   NEC25-A1(D9)  P_Sand_270_T           LPU   9.26281    12.35   \n",
       "19   4  NEC25-A3(D10)  P_Sand_270_T           LPU   81.1443   106.71   \n",
       "20   5  NEC25-A2(D15)           LPU   M_Sand_80_T   224.686   307.48   \n",
       "21   5  NEC25-A4(D11)           LPU   M_Sand_80_T    347.16   474.06   \n",
       "22   5   NEC25-A1(D9)           LPU   M_Sand_80_T   306.794   427.76   \n",
       "23   6  NEC25-A2(D15)   M_Sand_80_T   M_Sand_70_T    28.254    38.72   \n",
       "24   6  NEC25-A4(D11)   M_Sand_80_T   M_Sand_70_T   18.7659    28.59   \n",
       "25   6   NEC25-A1(D9)   M_Sand_80_T   M_Sand_70_T   17.5771    25.52   \n",
       "26   7  NEC25-A2(D15)   M_Sand_70_T         ULMSB   75.5657   107.88   \n",
       "27   7   NEC25-A1(D9)   M_Sand_70_T         ULMSB    40.471    58.75   \n",
       "28   8   NEC25-A1(D9)         ULMSB  LM_sand_60_T   19.1374    28.04   \n",
       "29   9   NEC25-A1(D9)  LM_sand_60_T  LM_sand_40_T   52.1086    76.65   \n",
       "30  10   NEC25-A1(D9)  LM_sand_40_T       ULMSB_1   14.7577    22.11   \n",
       "\n",
       "   TWT2middle Z2middle     Vint       X            Y  \n",
       "0     579.414   621.15  2144.06  589992   2.2847e+06  \n",
       "1     622.892   610.73  1960.95  589503  2.28253e+06  \n",
       "2      616.32   628.65  2040.01  593998  2.29299e+06  \n",
       "3     627.764  640.425  2040.34  582928  2.27682e+06  \n",
       "4     1161.58  1230.71  2119.02  589992  2.28478e+06  \n",
       "5     1167.12  1208.18  2070.36  589511  2.28253e+06  \n",
       "6     1209.27  1250.38  2068.01  593967  2.29297e+06  \n",
       "7     1206.49  1255.88  2081.87  582939  2.27682e+06  \n",
       "8      1245.3  1330.61     2137  589995  2.28485e+06  \n",
       "9     1244.35  1304.44  2096.58  589514  2.28253e+06  \n",
       "10    1278.33  1339.98  2096.45  593961  2.29297e+06  \n",
       "11    1278.92  1350.04  2111.22  582942  2.27682e+06  \n",
       "12     1286.6  1381.41  2147.39  589997   2.2849e+06  \n",
       "13     1291.1  1361.57  2109.16  589516  2.28253e+06  \n",
       "14     1324.1  1399.48  2113.86  593956  2.29296e+06  \n",
       "15     1327.3  1413.62  2130.07  582944  2.27682e+06  \n",
       "16    1364.18  1480.97  2171.23  590000  2.28502e+06  \n",
       "17    1318.24  1393.66  2114.42  589517  2.28253e+06  \n",
       "18    1349.91  1432.64  2122.58  593954  2.29296e+06  \n",
       "19    1389.35  1495.39  2152.65  582946  2.27682e+06  \n",
       "20    1540.46  1717.96  2230.45  589999  2.28532e+06  \n",
       "21    1497.93   1638.2  2187.28  589524  2.28253e+06  \n",
       "22    1507.94   1652.7     2192  593937  2.29296e+06  \n",
       "23    1666.93  1891.06  2268.91  589996  2.28552e+06  \n",
       "24     1680.9  1889.53  2248.24  589532  2.28254e+06  \n",
       "25    1670.13  1879.34  2250.54  593919  2.29295e+06  \n",
       "26    1718.84  1964.36  2285.68  589998   2.2856e+06  \n",
       "27    1699.15  1921.47  2261.69  593917  2.29295e+06  \n",
       "28    1728.95  1964.87   2272.9  593915  2.29295e+06  \n",
       "29    1764.58  2017.22  2286.34  593912  2.29294e+06  \n",
       "30    1798.01   2066.6  2298.76  593909  2.29294e+06  "
      ]
     },
     "execution_count": 239,
     "metadata": {},
     "output_type": "execute_result"
    }
   ],
   "source": [
    "# single_well_td_df[['TVDSS']]\n",
    "layers=pd.DataFrame(columns=['Lid','Well','TopLayer','Bot_Layer','isochrone','isopack','TWT2middle','Z2middle','Vint','X','Y'])\n",
    "layers.loc[0,'Lid']=2\n",
    "indx=0\n",
    "\n",
    "topvals=np.zeros((1,4))\n",
    "botvals=np.zeros((1,4))\n",
    "layern=0\n",
    "for top,bottom in zip(req_tops[:-1],req_tops[1:]):\n",
    "    print(top,bottom )    \n",
    "    for i in range(len(wtop_wells)):        \n",
    "        single_well=req_data[req_data.Well==wtop_wells[i]]\n",
    "        topvals=single_well.loc[single_well.Surface==top,['TWT','Z','X','Y']]\n",
    "        botvals=single_well.loc[single_well.Surface==bottom,['TWT','Z','X','Y']]\n",
    "        thevals=(topvals.values+botvals.values)/2\n",
    "#         print(len(thevals))\n",
    "        if(len(thevals)>0):\n",
    "            layers.loc[indx,['TWT2middle','Z2middle','X','Y']]=(topvals.values+botvals.values)/2\n",
    "            layers.loc[indx,['isochrone','isopack']]=-topvals.values[0][0:2]+botvals.values[0][0:2]\n",
    "            layers.loc[indx,['Lid','Well','TopLayer','Bot_Layer']]=[layern,wtop_wells[i],top,bottom]\n",
    "            indx+=1\n",
    "        else:\n",
    "            print('Not allocated')\n",
    "        \n",
    "    layern+=1\n",
    "        \n",
    "#         print(-topvals.values[0:2]+botvals.values[0:2])\n",
    "        \n",
    "layers['Vint']=2000*layers['Z2middle']/layers['TWT2middle']\n",
    "layers"
   ]
  },
  {
   "cell_type": "code",
   "execution_count": null,
   "metadata": {},
   "outputs": [],
   "source": [
    "plt.plot(layers[,ypred,'*')"
   ]
  },
  {
   "cell_type": "code",
   "execution_count": 273,
   "metadata": {},
   "outputs": [],
   "source": [
    "def geterror(y,ypred):\n",
    "    return np.sqrt(np.sum([(a-b)**2 for a,b in zip(y,ypred)]))\n",
    "def doRegression(layers,infeatures=['Lid','isochrone','TWT2middle','X','Y'],ofeature):\n",
    "    # Machine learning LR with two features\n",
    "    X=layers[['Lid','isochrone','TWT2middle']].values#,'TWT2middle','X','Y'\n",
    "    # a,b=X.shape\n",
    "    # X.shape=b,a\n",
    "    y=layers['Vint'].values\n",
    "    X=X/np.max(X,axis=0)\n",
    "    lg=LinearRegression().fit(X, y)\n",
    "    ypred=lg.predict(X)\n",
    "    plt.plot(y,ypred,'*')\n",
    "    return lg,geterror(y,ypred)"
   ]
  },
  {
   "cell_type": "code",
   "execution_count": 315,
   "metadata": {},
   "outputs": [
    {
     "data": {
      "text/plain": [
       "166.0998964155509"
      ]
     },
     "execution_count": 315,
     "metadata": {},
     "output_type": "execute_result"
    },
    {
     "data": {
      "image/png": "[encoded data removed]",
      "text/plain": [
       "<Figure size 432x288 with 1 Axes>"
      ]
     },
     "metadata": {
      "needs_background": "light"
     },
     "output_type": "display_data"
    }
   ],
   "source": [
    "# Machine learning LR with two features\n",
    "X=layers[['Lid','isochrone','TWT2middle']].values#,'TWT2middle','X','Y'\n",
    "# a,b=X.shape\n",
    "# X.shape=b,a\n",
    "y=layers['Vint'].values\n",
    "X=X/np.max(X,axis=0)\n",
    "lg=LinearRegression().fit(X, y)\n",
    "ypred=lg.predict(X)\n",
    "plt.plot(y,ypred,'*')\n",
    "geterror(y,ypred)"
   ]
  },
  {
   "cell_type": "code",
   "execution_count": 316,
   "metadata": {},
   "outputs": [
    {
     "data": {
      "text/plain": [
       "165.8440109855424"
      ]
     },
     "execution_count": 316,
     "metadata": {},
     "output_type": "execute_result"
    },
    {
     "data": {
      "image/png": "[encoded data removed]",
      "text/plain": [
       "<Figure size 432x288 with 1 Axes>"
      ]
     },
     "metadata": {
      "needs_background": "light"
     },
     "output_type": "display_data"
    }
   ],
   "source": [
    "# Machine learning LR with five features\n",
    "X=layers[['Lid','isochrone','TWT2middle','X','Y']].values\n",
    "# a,b=X.shape\n",
    "# X.shape=b,a\n",
    "y=layers['Vint'].values\n",
    "X=X/np.max(X,axis=0)\n",
    "lg=LinearRegression().fit(X, y)\n",
    "ypred=lg.predict(X)\n",
    "plt.plot(y,ypred,'*')\n",
    "geterror(y,ypred)"
   ]
  },
  {
   "cell_type": "code",
   "execution_count": 321,
   "metadata": {},
   "outputs": [
    {
     "data": {
      "text/plain": [
       "38.88768655687231"
      ]
     },
     "execution_count": 321,
     "metadata": {},
     "output_type": "execute_result"
    },
    {
     "data": {
      "image/png": "[encoded data removed]",
      "text/plain": [
       "<Figure size 432x288 with 1 Axes>"
      ]
     },
     "metadata": {
      "needs_background": "light"
     },
     "output_type": "display_data"
    }
   ],
   "source": [
    "# Machine learning PR with five features\n",
    "X_=layers[['Lid','isochrone','TWT2middle','X','Y']].values#\n",
    "poly = PolynomialFeatures(degree=2)\n",
    "X_=X_/np.max(X_,axis=0)\n",
    "X = poly.fit_transform(X_)\n",
    "y=layers['Vint'].values\n",
    "\n",
    "lg=LinearRegression().fit(X, y)\n",
    "ypred=lg.predict(X)\n",
    "plt.plot(y,ypred,'*')\n",
    "geterror(y,ypred)\n",
    "\n"
   ]
  },
  {
   "cell_type": "code",
   "execution_count": 246,
   "metadata": {},
   "outputs": [
    {
     "data": {
      "image/png": "[encoded data removed]",
      "text/plain": [
       "<Figure size 432x288 with 1 Axes>"
      ]
     },
     "metadata": {
      "needs_background": "light"
     },
     "output_type": "display_data"
    },
    {
     "data": {
      "image/png": "[encoded data removed]",
      "text/plain": [
       "<Figure size 432x288 with 1 Axes>"
      ]
     },
     "metadata": {
      "needs_background": "light"
     },
     "output_type": "display_data"
    },
    {
     "data": {
      "image/png": "[encoded data removed]",
      "text/plain": [
       "<Figure size 432x288 with 1 Axes>"
      ]
     },
     "metadata": {
      "needs_background": "light"
     },
     "output_type": "display_data"
    },
    {
     "data": {
      "image/png": "[encoded data removed]",
      "text/plain": [
       "<Figure size 432x288 with 1 Axes>"
      ]
     },
     "metadata": {
      "needs_background": "light"
     },
     "output_type": "display_data"
    },
    {
     "data": {
      "image/png": "[encoded data removed]",
      "text/plain": [
       "<Figure size 432x288 with 1 Axes>"
      ]
     },
     "metadata": {
      "needs_background": "light"
     },
     "output_type": "display_data"
    },
    {
     "data": {
      "image/png": "[encoded data removed]",
      "text/plain": [
       "<Figure size 432x288 with 1 Axes>"
      ]
     },
     "metadata": {
      "needs_background": "light"
     },
     "output_type": "display_data"
    },
    {
     "data": {
      "image/png": "[encoded data removed]",
      "text/plain": [
       "<Figure size 432x288 with 1 Axes>"
      ]
     },
     "metadata": {
      "needs_background": "light"
     },
     "output_type": "display_data"
    },
    {
     "data": {
      "image/png": "[encoded data removed]",
      "text/plain": [
       "<Figure size 432x288 with 1 Axes>"
      ]
     },
     "metadata": {
      "needs_background": "light"
     },
     "output_type": "display_data"
    },
    {
     "data": {
      "image/png": "[encoded data removed]",
      "text/plain": [
       "<Figure size 432x288 with 1 Axes>"
      ]
     },
     "metadata": {
      "needs_background": "light"
     },
     "output_type": "display_data"
    },
    {
     "data": {
      "image/png": "[encoded data removed]",
      "text/plain": [
       "<Figure size 432x288 with 1 Axes>"
      ]
     },
     "metadata": {
      "needs_background": "light"
     },
     "output_type": "display_data"
    },
    {
     "data": {
      "image/png": "[encoded data removed]",
      "text/plain": [
       "<Figure size 432x288 with 1 Axes>"
      ]
     },
     "metadata": {
      "needs_background": "light"
     },
     "output_type": "display_data"
    }
   ],
   "source": [
    "# single_well_td_df[['TVDSS']]>= v-2\n",
    "# single_well_td_df\n",
    "# indx=0\n",
    "\n",
    "# req_data.head()\n",
    "# layers\n",
    "# topvals.values[0]\n",
    "# topvals.values[0][0:2]\n",
    "# (topvals.values+botvals.values)/2\n",
    "for l in layers['Lid'].unique():\n",
    "    plt.plot(layers.loc[layers.Lid==l,'isochrone'],layers.loc[layers.Lid==l,'Vint'],'.')\n",
    "    plt.show()"
   ]
  },
  {
   "cell_type": "code",
   "execution_count": 162,
   "metadata": {},
   "outputs": [
    {
     "name": "stdout",
     "output_type": "stream",
     "text": [
      "1548.75\n"
     ]
    }
   ],
   "source": [
    "# single_well_td_df ypred=array([2317.74696469, 2388.88898637, 2391.95776239])\n",
    "# for v in single_well['Z'].values:\n",
    "#     print(v)\n",
    "print(v)\n",
    "# single_well_td_df[['TVDSS']].between(v-10,v)\n",
    "# single_well_td_df[(single_well_td_df['TVDSS'].values>= v-10) & (single_well_td_df['TVDSS'].values <= v+10)]\n",
    "# single_well_td_df['TVDSS']"
   ]
  },
  {
   "cell_type": "code",
   "execution_count": 115,
   "metadata": {},
   "outputs": [],
   "source": [
    "# single_well.index[0]\n",
    "# df.loc[df['line_race'] == 0, 'rating'] = 0\n",
    "# req_data.loc[req_data.index==single_well.index[0],'TWT']=30\n",
    "# req_data[req_data.index==single_well.index[0]]\n",
    "# mtvdss2twt\n",
    "single_well\n",
    "# mtvdss2twt=predictivemodel4Y(single_well_td_df,lables=['TVDSS','TWT'])\n",
    "# # single_well[]\n",
    "# # single_well_td_df\n",
    "# mtvdss2twt.predict([[2730],[2817.63],[2821.41]])\n",
    "\n",
    "pol,lg=polypredict4Y(single_well_td_df,lables=['TVDSS','TWT'],degree=3)\n",
    "\n",
    "xt=np.array([2730,2817.63,2821.41])\n",
    "xt.shape=len(xt),1\n",
    "lg.predict(pol.fit_transform(xt))"
   ]
  }
 ],
 "metadata": {
  "kernelspec": {
   "display_name": "Python 3",
   "language": "python",
   "name": "python3"
  },
  "language_info": {
   "codemirror_mode": {
    "name": "ipython",
    "version": 3
   },
   "file_extension": ".py",
   "mimetype": "text/x-python",
   "name": "python",
   "nbconvert_exporter": "python",
   "pygments_lexer": "ipython3",
   "version": "3.7.1"
  }
 },
 "nbformat": 4,
 "nbformat_minor": 2
}
