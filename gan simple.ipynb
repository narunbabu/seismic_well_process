{
 "cells": [
  {
   "cell_type": "code",
   "execution_count": 1,
   "metadata": {},
   "outputs": [
    {
     "name": "stdout",
     "output_type": "stream",
     "text": [
      "Extracting MNIST_data\\train-images-idx3-ubyte.gz\n",
      "Extracting MNIST_data\\train-labels-idx1-ubyte.gz\n",
      "Extracting MNIST_data\\t10k-images-idx3-ubyte.gz\n",
      "Extracting MNIST_data\\t10k-labels-idx1-ubyte.gz\n"
     ]
    }
   ],
   "source": [
    "import tensorflow as tf\n",
    "import numpy as np\n",
    "import matplotlib.pyplot as plt\n",
    "from tensorflow.examples.tutorials.mnist import input_data\n",
    "\n",
    "mnist=input_data.read_data_sets(\"MNIST_data\")"
   ]
  },
  {
   "cell_type": "code",
   "execution_count": 7,
   "metadata": {},
   "outputs": [
    {
     "data": {
      "text/plain": [
       "Datasets(train=<tensorflow.contrib.learn.python.learn.datasets.mnist.DataSet object at 0x000002A0D67B6B38>, validation=<tensorflow.contrib.learn.python.learn.datasets.mnist.DataSet object at 0x000002A0DA2C1B38>, test=<tensorflow.contrib.learn.python.learn.datasets.mnist.DataSet object at 0x000002A0DA2C1908>)"
      ]
     },
     "execution_count": 7,
     "metadata": {},
     "output_type": "execute_result"
    }
   ],
   "source": [
    "mnist"
   ]
  },
  {
   "cell_type": "code",
   "execution_count": 2,
   "metadata": {},
   "outputs": [],
   "source": [
    "def generator(z,reuse=None):\n",
    "    with tf.variable_scope('gen',reuse=reuse):\n",
    "        hidden1=tf.layers.dense(inputs=z,units=128,activation=tf.nn.leaky_relu)\n",
    "        hidden2=tf.layers.dense(inputs=hidden1,units=128,activation=tf.nn.leaky_relu)\n",
    "        output=tf.layers.dense(inputs=hidden2,units=784,activation=tf.nn.tanh)\n",
    "        \n",
    "        return output\n",
    "    \n",
    "def discriminator(X,reuse=None):\n",
    "    with tf.variable_scope('dis',reuse=reuse):\n",
    "        hidden1=tf.layers.dense(inputs=X,units=128,activation=tf.nn.leaky_relu)\n",
    "        hidden2=tf.layers.dense(inputs=hidden1,units=128,activation=tf.nn.leaky_relu)\n",
    "        logits=tf.layers.dense(hidden2,units=1)\n",
    "        output=tf.sigmoid(logits)\n",
    "        \n",
    "        return output,logits"
   ]
  },
  {
   "cell_type": "code",
   "execution_count": 3,
   "metadata": {},
   "outputs": [],
   "source": [
    "tf.reset_default_graph()\n",
    "\n",
    "real_images=tf.placeholder(tf.float32,shape=[None,784])\n",
    "z=tf.placeholder(tf.float32,shape=[None,100])\n",
    "\n",
    "G=generator(z)\n",
    "D_output_real,D_logits_real=discriminator(real_images)\n",
    "D_output_fake,D_logits_fake=discriminator(G,reuse=True)"
   ]
  },
  {
   "cell_type": "code",
   "execution_count": 4,
   "metadata": {},
   "outputs": [],
   "source": [
    "def loss_func(logits_in,labels_in):\n",
    "    return tf.reduce_mean(tf.nn.sigmoid_cross_entropy_with_logits(logits=logits_in,labels=labels_in))\n",
    "\n",
    "D_real_loss=loss_func(D_logits_real,tf.ones_like(D_logits_real)*0.9) #Smoothing for generalization\n",
    "D_fake_loss=loss_func(D_logits_fake,tf.zeros_like(D_logits_real))\n",
    "D_loss=D_real_loss+D_fake_loss\n",
    "\n",
    "G_loss= loss_func(D_logits_fake,tf.ones_like(D_logits_fake))\n"
   ]
  },
  {
   "cell_type": "code",
   "execution_count": 5,
   "metadata": {},
   "outputs": [],
   "source": [
    "lr=0.001\n",
    "\n",
    "#Do this when multiple networks interact with each other\n",
    "tvars=tf.trainable_variables()  #returns all variables created(the two variable scopes) and makes trainable true\n",
    "d_vars=[var for var in tvars if 'dis' in var.name]\n",
    "g_vars=[var for var in tvars if 'gen' in var.name]\n",
    "\n",
    "D_trainer=tf.train.AdamOptimizer(lr).minimize(D_loss,var_list=d_vars)\n",
    "G_trainer=tf.train.AdamOptimizer(lr).minimize(G_loss,var_list=g_vars)\n",
    "\n",
    "batch_size=100\n",
    "epochs=100\n",
    "init=tf.global_variables_initializer()"
   ]
  },
  {
   "cell_type": "code",
   "execution_count": 6,
   "metadata": {},
   "outputs": [
    {
     "name": "stdout",
     "output_type": "stream",
     "text": [
      "on epoch0\n",
      "on epoch1\n",
      "on epoch2\n",
      "on epoch3\n",
      "on epoch4\n",
      "on epoch5\n",
      "on epoch6\n",
      "on epoch7\n",
      "on epoch8\n",
      "on epoch9\n",
      "on epoch10\n",
      "on epoch11\n",
      "on epoch12\n",
      "on epoch13\n",
      "on epoch14\n",
      "on epoch15\n",
      "on epoch16\n",
      "on epoch17\n",
      "on epoch18\n",
      "on epoch19\n",
      "on epoch20\n",
      "on epoch21\n",
      "on epoch22\n",
      "on epoch23\n",
      "on epoch24\n",
      "on epoch25\n",
      "on epoch26\n",
      "on epoch27\n",
      "on epoch28\n",
      "on epoch29\n",
      "on epoch30\n",
      "on epoch31\n",
      "on epoch32\n",
      "on epoch33\n",
      "on epoch34\n",
      "on epoch35\n",
      "on epoch36\n",
      "on epoch37\n",
      "on epoch38\n",
      "on epoch39\n",
      "on epoch40\n",
      "on epoch41\n",
      "on epoch42\n",
      "on epoch43\n",
      "on epoch44\n",
      "on epoch45\n",
      "on epoch46\n",
      "on epoch47\n",
      "on epoch48\n",
      "on epoch49\n",
      "on epoch50\n",
      "on epoch51\n",
      "on epoch52\n",
      "on epoch53\n",
      "on epoch54\n",
      "on epoch55\n",
      "on epoch56\n",
      "on epoch57\n",
      "on epoch58\n",
      "on epoch59\n",
      "on epoch60\n",
      "on epoch61\n",
      "on epoch62\n",
      "on epoch63\n",
      "on epoch64\n",
      "on epoch65\n",
      "on epoch66\n",
      "on epoch67\n",
      "on epoch68\n",
      "on epoch69\n",
      "on epoch70\n",
      "on epoch71\n",
      "on epoch72\n",
      "on epoch73\n",
      "on epoch74\n",
      "on epoch75\n",
      "on epoch76\n",
      "on epoch77\n",
      "on epoch78\n",
      "on epoch79\n",
      "on epoch80\n",
      "on epoch81\n",
      "on epoch82\n",
      "on epoch83\n",
      "on epoch84\n",
      "on epoch85\n",
      "on epoch86\n",
      "on epoch87\n",
      "on epoch88\n",
      "on epoch89\n",
      "on epoch90\n",
      "on epoch91\n",
      "on epoch92\n",
      "on epoch93\n",
      "on epoch94\n",
      "on epoch95\n",
      "on epoch96\n",
      "on epoch97\n",
      "on epoch98\n",
      "on epoch99\n"
     ]
    },
    {
     "data": {
      "text/plain": [
       "<matplotlib.image.AxesImage at 0x2a0f48ac198>"
      ]
     },
     "execution_count": 6,
     "metadata": {},
     "output_type": "execute_result"
    },
    {
     "data": {
      "image/png": "[encoded data removed]",
      "text/plain": [
       "<Figure size 432x288 with 1 Axes>"
      ]
     },
     "metadata": {
      "needs_background": "light"
     },
     "output_type": "display_data"
    }
   ],
   "source": [
    "samples=[] #generator examples\n",
    "\n",
    "with tf.Session() as sess:\n",
    "    sess.run(init)\n",
    "    for epoch in range(epochs):\n",
    "        num_batches=mnist.train.num_examples//batch_size\n",
    "        for i in range(num_batches):\n",
    "            batch=mnist.train.next_batch(batch_size)\n",
    "            batch_images=batch[0].reshape((batch_size,784))\n",
    "            batch_images=batch_images*2-1\n",
    "            batch_z=np.random.uniform(-1,1,size=(batch_size,100))\n",
    "            _=sess.run(D_trainer,feed_dict={real_images:batch_images,z:batch_z})\n",
    "            _=sess.run(G_trainer,feed_dict={z:batch_z})\n",
    "            \n",
    "        print(\"on epoch{}\".format(epoch))\n",
    "        \n",
    "        sample_z=np.random.uniform(-1,1,size=(1,100))\n",
    "        gen_sample=sess.run(generator(z,reuse=True),feed_dict={z:sample_z})\n",
    "        \n",
    "        samples.append(gen_sample)\n",
    "\n",
    "plt.imshow(samples[0].reshape(28,28))"
   ]
  },
  {
   "cell_type": "code",
   "execution_count": null,
   "metadata": {},
   "outputs": [],
   "source": []
  }
 ],
 "metadata": {
  "kernelspec": {
   "display_name": "Python 3",
   "language": "python",
   "name": "python3"
  },
  "language_info": {
   "codemirror_mode": {
    "name": "ipython",
    "version": 3
   },
   "file_extension": ".py",
   "mimetype": "text/x-python",
   "name": "python",
   "nbconvert_exporter": "python",
   "pygments_lexer": "ipython3",
   "version": "3.6.1"
  }
 },
 "nbformat": 4,
 "nbformat_minor": 2
}
